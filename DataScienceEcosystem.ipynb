{
 "cells": [
  {
   "cell_type": "markdown",
   "id": "7839fbe6-4e8f-4984-8f1f-aa7aa8e120ce",
   "metadata": {},
   "source": [
    "# Data Science Tools & Ecosystem"
   ]
  },
  {
   "cell_type": "markdown",
   "id": "b1dd3c2f-a325-4ccb-ae88-27a596fb0490",
   "metadata": {},
   "source": [
    "In this notebook, Data Science Tools and Ecosystems are summarized"
   ]
  },
  {
   "cell_type": "markdown",
   "id": "ebf9b26f-0943-468f-91fd-14c8b75bb849",
   "metadata": {},
   "source": [
    "**Objectives**"
   ]
  },
  {
   "cell_type": "markdown",
   "id": "3368d3e2-ef82-43e0-8a84-2d51810cfba2",
   "metadata": {},
   "source": [
    "* List of popular languages used in Data Science\n",
    "* Common libraries used in Data Science\n",
    "* Popular tools used in Data Science\n",
    "* Examples of using Python to solve simple Arithmetic expressions"
   ]
  },
  {
   "cell_type": "markdown",
   "id": "a52f0e44-d616-4cd0-8628-38a29503e06c",
   "metadata": {},
   "source": [
    "Some of the popular languages that Data Scientists use are:"
   ]
  },
  {
   "cell_type": "markdown",
   "id": "16e484f3-c922-49d4-9112-923778e48612",
   "metadata": {},
   "source": [
    "1. Python\n",
    "2. R\n",
    "3. SQL\n",
    "4. Julia\n",
    "5. Scala"
   ]
  },
  {
   "cell_type": "markdown",
   "id": "e8438396-ae7a-4c3e-9ba6-d534631e4ee7",
   "metadata": {},
   "source": [
    "Some of the common libraries that Data Scientists include:\n",
    "1. Data Manipulation & Analysis\n",
    "    * NumPy - for numerical computing and array operations\n",
    "    * Pandas - for structured data\n",
    "2. Data visualisation\n",
    "    * Matplotlib - Basic plots (line, bar, scatter)\n",
    "    * Seaborn - To augment Matplotlib\n",
    "    * Plotly - Interactive visualisations for web dashboards\n",
    "3. Machine Learning\n",
    "    * Scikit Learn\n",
    "    * TensorFlow\n",
    "    * PyTorch"
   ]
  },
  {
   "cell_type": "markdown",
   "id": "47df9030-47f3-4958-9aad-d46b9201dfdb",
   "metadata": {},
   "source": [
    "|  Data Science Tools   |\n",
    "|-----------------------|\n",
    "| Jupyter Notebook / Lab|\n",
    "|  R Studio             | \n",
    "|  VS Code              |"
   ]
  },
  {
   "cell_type": "markdown",
   "id": "b1055ec5-d4b9-4318-a960-bab6e748c186",
   "metadata": {},
   "source": [
    "### Below are a few examples of evaluating arithmetic expressions in Python"
   ]
  },
  {
   "cell_type": "code",
   "execution_count": 14,
   "id": "087284f1-7a6d-4601-af6d-504586f426c7",
   "metadata": {},
   "outputs": [
    {
     "data": {
      "text/plain": [
       "17"
      ]
     },
     "execution_count": 14,
     "metadata": {},
     "output_type": "execute_result"
    }
   ],
   "source": [
    "# This is a simple arithmetic expression to multiply, then add, integers\n",
    "\n",
    "(3*4)+5"
   ]
  },
  {
   "cell_type": "code",
   "execution_count": 20,
   "id": "a8065ca1-6e35-43c9-b75f-e62ae449c830",
   "metadata": {},
   "outputs": [
    {
     "name": "stdout",
     "output_type": "stream",
     "text": [
      "200 minutes is equal to 3.33 hours\n"
     ]
    }
   ],
   "source": [
    "# This will convert 200 minutes to hours by dividing it by 60\n",
    "\n",
    "minutes = 200\n",
    "hours = minutes/60\n",
    "print(f\"{minutes} minutes is equal to {hours:.2f} hours\")"
   ]
  },
  {
   "cell_type": "markdown",
   "id": "419764b7-196d-4643-a15e-71eef87e6155",
   "metadata": {},
   "source": [
    "## Author\n",
    "Prasad Rao"
   ]
  },
  {
   "cell_type": "code",
   "execution_count": null,
   "id": "65bcccec-78c9-4714-bdbf-999d40156bd3",
   "metadata": {},
   "outputs": [],
   "source": []
  }
 ],
 "metadata": {
  "kernelspec": {
   "display_name": "Python [conda env:base] *",
   "language": "python",
   "name": "conda-base-py"
  },
  "language_info": {
   "codemirror_mode": {
    "name": "ipython",
    "version": 3
   },
   "file_extension": ".py",
   "mimetype": "text/x-python",
   "name": "python",
   "nbconvert_exporter": "python",
   "pygments_lexer": "ipython3",
   "version": "3.12.7"
  }
 },
 "nbformat": 4,
 "nbformat_minor": 5
}
